{
 "cells": [
  {
   "cell_type": "markdown",
   "id": "ed07e2e1-3a95-49d1-98ff-e0effb9d94b1",
   "metadata": {
    "tags": []
   },
   "source": [
    "# random-tract\n",
    "\n",
    "By [Ben Welsh](https://palewi.re/who-is-ben-welsh/)\n",
    "\n",
    "A Python hack to respond to a [Twitter challenge](https://twitter.com/veltman/status/1439677491338121218) to \"select a random geographic point in the US, with the probability weighted by population.\""
   ]
  },
  {
   "cell_type": "markdown",
   "id": "47cb7770-d894-4b9c-8239-c6881c34ad25",
   "metadata": {},
   "source": [
    "Import dependencies"
   ]
  },
  {
   "cell_type": "code",
   "execution_count": 1,
   "id": "746ba241-1739-479e-addd-e84f2cff3705",
   "metadata": {},
   "outputs": [],
   "source": [
    "import os\n",
    "import random\n",
    "import pathlib\n",
    "import pandas as pd\n",
    "import geopandas as gpd\n",
    "from census_data_downloader import tables\n",
    "from census_map_downloader.geotypes.tracts import TractsDownloader\n",
    "from census_map_downloader.geotypes.states_carto import StatesCartoDownloader"
   ]
  },
  {
   "cell_type": "markdown",
   "id": "3ab18e3d-67b5-44b9-a8bc-85517d8ee3c5",
   "metadata": {},
   "source": [
    "Configure environment"
   ]
  },
  {
   "cell_type": "code",
   "execution_count": 2,
   "id": "2e6c7060-57b6-4bce-bbb7-b5b5943e52fd",
   "metadata": {},
   "outputs": [],
   "source": [
    "data_dir = pathlib.Path(\"./data\")"
   ]
  },
  {
   "cell_type": "code",
   "execution_count": 3,
   "id": "9d81c2a7-6370-48a4-82bb-9033ee0ba93c",
   "metadata": {},
   "outputs": [],
   "source": [
    "census_api_key = os.getenv(\"CENSUS_API_KEY\") or ''"
   ]
  },
  {
   "cell_type": "markdown",
   "id": "09e5965b-cc9f-4a0f-ab70-6978f24ae92a",
   "metadata": {},
   "source": [
    "Download tract data file"
   ]
  },
  {
   "cell_type": "code",
   "execution_count": 4,
   "id": "7d2e0ef1-d214-4568-a53e-fd4d1ddeec64",
   "metadata": {},
   "outputs": [],
   "source": [
    "tables.PopulationDownloader(\n",
    "    census_api_key,\n",
    "    data_dir=data_dir,\n",
    "    years=2019\n",
    ").download_tracts()"
   ]
  },
  {
   "cell_type": "markdown",
   "id": "8535692d-6f11-450f-a790-e3f3ea5f2827",
   "metadata": {},
   "source": [
    "Download the tract map file"
   ]
  },
  {
   "cell_type": "code",
   "execution_count": 5,
   "id": "c028841d-5910-4bab-bcb6-325a3e3d110b",
   "metadata": {},
   "outputs": [],
   "source": [
    "TractsDownloader(data_dir, year=2020).run()"
   ]
  },
  {
   "cell_type": "markdown",
   "id": "5da27558-18bf-4745-8ac2-f336931c5686",
   "metadata": {},
   "source": [
    "Download state map file"
   ]
  },
  {
   "cell_type": "code",
   "execution_count": 6,
   "id": "c804b756-4d49-4823-91fc-5409bed836b4",
   "metadata": {},
   "outputs": [],
   "source": [
    "StatesCartoDownloader(data_dir).run()"
   ]
  },
  {
   "cell_type": "markdown",
   "id": "77c20115-7f12-424a-b595-4bb57ffe69a4",
   "metadata": {},
   "source": [
    "Read in tract data file"
   ]
  },
  {
   "cell_type": "code",
   "execution_count": 19,
   "id": "1359da0e-9c8d-4edb-9c0e-ab72e2eede2c",
   "metadata": {},
   "outputs": [],
   "source": [
    "tract_df = pd.read_csv(data_dir / \"processed/acs5_2019_population_tracts.csv\", dtype={\"geoid\": str})"
   ]
  },
  {
   "cell_type": "code",
   "execution_count": 20,
   "id": "1fbf7d2e-aa05-4781-87b3-2f0551bd7a2d",
   "metadata": {},
   "outputs": [
    {
     "data": {
      "text/html": [
       "<div>\n",
       "<style scoped>\n",
       "    .dataframe tbody tr th:only-of-type {\n",
       "        vertical-align: middle;\n",
       "    }\n",
       "\n",
       "    .dataframe tbody tr th {\n",
       "        vertical-align: top;\n",
       "    }\n",
       "\n",
       "    .dataframe thead th {\n",
       "        text-align: right;\n",
       "    }\n",
       "</style>\n",
       "<table border=\"1\" class=\"dataframe\">\n",
       "  <thead>\n",
       "    <tr style=\"text-align: right;\">\n",
       "      <th></th>\n",
       "      <th>geoid</th>\n",
       "      <th>name</th>\n",
       "      <th>universe</th>\n",
       "      <th>universe_annotation</th>\n",
       "      <th>universe_moe</th>\n",
       "      <th>universe_moe_annotation</th>\n",
       "      <th>state</th>\n",
       "      <th>county</th>\n",
       "      <th>tract</th>\n",
       "    </tr>\n",
       "  </thead>\n",
       "  <tbody>\n",
       "    <tr>\n",
       "      <th>0</th>\n",
       "      <td>01071951100</td>\n",
       "      <td>Census Tract 9511, Jackson County, Alabama</td>\n",
       "      <td>6662.0</td>\n",
       "      <td>NaN</td>\n",
       "      <td>626.0</td>\n",
       "      <td>NaN</td>\n",
       "      <td>1</td>\n",
       "      <td>71</td>\n",
       "      <td>951100</td>\n",
       "    </tr>\n",
       "    <tr>\n",
       "      <th>1</th>\n",
       "      <td>01097002900</td>\n",
       "      <td>Census Tract 29, Mobile County, Alabama</td>\n",
       "      <td>4342.0</td>\n",
       "      <td>NaN</td>\n",
       "      <td>428.0</td>\n",
       "      <td>NaN</td>\n",
       "      <td>1</td>\n",
       "      <td>97</td>\n",
       "      <td>2900</td>\n",
       "    </tr>\n",
       "    <tr>\n",
       "      <th>2</th>\n",
       "      <td>01121010302</td>\n",
       "      <td>Census Tract 103.02, Talladega County, Alabama</td>\n",
       "      <td>4441.0</td>\n",
       "      <td>NaN</td>\n",
       "      <td>449.0</td>\n",
       "      <td>NaN</td>\n",
       "      <td>1</td>\n",
       "      <td>121</td>\n",
       "      <td>10302</td>\n",
       "    </tr>\n",
       "    <tr>\n",
       "      <th>3</th>\n",
       "      <td>01097003404</td>\n",
       "      <td>Census Tract 34.04, Mobile County, Alabama</td>\n",
       "      <td>2597.0</td>\n",
       "      <td>NaN</td>\n",
       "      <td>377.0</td>\n",
       "      <td>NaN</td>\n",
       "      <td>1</td>\n",
       "      <td>97</td>\n",
       "      <td>3404</td>\n",
       "    </tr>\n",
       "    <tr>\n",
       "      <th>4</th>\n",
       "      <td>01097000200</td>\n",
       "      <td>Census Tract 2, Mobile County, Alabama</td>\n",
       "      <td>1306.0</td>\n",
       "      <td>NaN</td>\n",
       "      <td>235.0</td>\n",
       "      <td>NaN</td>\n",
       "      <td>1</td>\n",
       "      <td>97</td>\n",
       "      <td>200</td>\n",
       "    </tr>\n",
       "  </tbody>\n",
       "</table>\n",
       "</div>"
      ],
      "text/plain": [
       "         geoid                                            name  universe  \\\n",
       "0  01071951100      Census Tract 9511, Jackson County, Alabama    6662.0   \n",
       "1  01097002900         Census Tract 29, Mobile County, Alabama    4342.0   \n",
       "2  01121010302  Census Tract 103.02, Talladega County, Alabama    4441.0   \n",
       "3  01097003404      Census Tract 34.04, Mobile County, Alabama    2597.0   \n",
       "4  01097000200          Census Tract 2, Mobile County, Alabama    1306.0   \n",
       "\n",
       "   universe_annotation  universe_moe universe_moe_annotation  state  county  \\\n",
       "0                  NaN         626.0                     NaN      1      71   \n",
       "1                  NaN         428.0                     NaN      1      97   \n",
       "2                  NaN         449.0                     NaN      1     121   \n",
       "3                  NaN         377.0                     NaN      1      97   \n",
       "4                  NaN         235.0                     NaN      1      97   \n",
       "\n",
       "    tract  \n",
       "0  951100  \n",
       "1    2900  \n",
       "2   10302  \n",
       "3    3404  \n",
       "4     200  "
      ]
     },
     "execution_count": 20,
     "metadata": {},
     "output_type": "execute_result"
    }
   ],
   "source": [
    "tract_df.head()"
   ]
  },
  {
   "cell_type": "markdown",
   "id": "5399dc1f-0665-44a1-ac94-7a46021c821f",
   "metadata": {},
   "source": [
    "Use population as a weight to randomly select a tract"
   ]
  },
  {
   "cell_type": "code",
   "execution_count": 21,
   "id": "2f66ca44-9c42-4595-a369-cdd6597e78ab",
   "metadata": {},
   "outputs": [],
   "source": [
    "population = tract_df.geoid"
   ]
  },
  {
   "cell_type": "code",
   "execution_count": 22,
   "id": "7e270b74-c171-49b4-a477-b76da0b1a977",
   "metadata": {},
   "outputs": [],
   "source": [
    "weights = tract_df.universe"
   ]
  },
  {
   "cell_type": "code",
   "execution_count": 23,
   "id": "24a1b695-3cd3-416c-83ba-5b99c8f3a808",
   "metadata": {},
   "outputs": [],
   "source": [
    "random_tract = random.choices(population, weights=weights)[0]"
   ]
  },
  {
   "cell_type": "code",
   "execution_count": 24,
   "id": "0db67b1f-df30-4d3f-80de-29f02b7dde44",
   "metadata": {},
   "outputs": [
    {
     "data": {
      "text/plain": [
       "'12095016301'"
      ]
     },
     "execution_count": 24,
     "metadata": {},
     "output_type": "execute_result"
    }
   ],
   "source": [
    "random_tract"
   ]
  },
  {
   "cell_type": "markdown",
   "id": "9a77144c-f6f4-40f0-9a20-7aee611ad1a7",
   "metadata": {},
   "source": [
    "Read in the tract map file"
   ]
  },
  {
   "cell_type": "code",
   "execution_count": 13,
   "id": "2167c1ff-bfc8-4086-8aad-97bb87e17afe",
   "metadata": {},
   "outputs": [],
   "source": [
    "tracts_gdf = gpd.read_file(data_dir / \"processed/tracts_2020.geojson\")"
   ]
  },
  {
   "cell_type": "code",
   "execution_count": 15,
   "id": "aab99b53-7ffb-4afa-8545-54dfd6376eb6",
   "metadata": {},
   "outputs": [
    {
     "data": {
      "text/html": [
       "<div>\n",
       "<style scoped>\n",
       "    .dataframe tbody tr th:only-of-type {\n",
       "        vertical-align: middle;\n",
       "    }\n",
       "\n",
       "    .dataframe tbody tr th {\n",
       "        vertical-align: top;\n",
       "    }\n",
       "\n",
       "    .dataframe thead th {\n",
       "        text-align: right;\n",
       "    }\n",
       "</style>\n",
       "<table border=\"1\" class=\"dataframe\">\n",
       "  <thead>\n",
       "    <tr style=\"text-align: right;\">\n",
       "      <th></th>\n",
       "      <th>STATEFP</th>\n",
       "      <th>COUNTYFP</th>\n",
       "      <th>TRACTCE</th>\n",
       "      <th>GEOID</th>\n",
       "      <th>NAME</th>\n",
       "      <th>NAMELSAD</th>\n",
       "      <th>MTFCC</th>\n",
       "      <th>FUNCSTAT</th>\n",
       "      <th>ALAND</th>\n",
       "      <th>AWATER</th>\n",
       "      <th>INTPTLAT</th>\n",
       "      <th>INTPTLON</th>\n",
       "      <th>geometry</th>\n",
       "    </tr>\n",
       "  </thead>\n",
       "  <tbody>\n",
       "    <tr>\n",
       "      <th>0</th>\n",
       "      <td>01</td>\n",
       "      <td>045</td>\n",
       "      <td>020801</td>\n",
       "      <td>01045020801</td>\n",
       "      <td>208.01</td>\n",
       "      <td>Census Tract 208.01</td>\n",
       "      <td>G5020</td>\n",
       "      <td>S</td>\n",
       "      <td>19261326</td>\n",
       "      <td>0</td>\n",
       "      <td>+31.3971437</td>\n",
       "      <td>-085.6615959</td>\n",
       "      <td>POLYGON ((-85.70064 31.38509, -85.70043 31.385...</td>\n",
       "    </tr>\n",
       "    <tr>\n",
       "      <th>1</th>\n",
       "      <td>01</td>\n",
       "      <td>017</td>\n",
       "      <td>954200</td>\n",
       "      <td>01017954200</td>\n",
       "      <td>9542</td>\n",
       "      <td>Census Tract 9542</td>\n",
       "      <td>G5020</td>\n",
       "      <td>S</td>\n",
       "      <td>62998696</td>\n",
       "      <td>34641</td>\n",
       "      <td>+32.8341436</td>\n",
       "      <td>-085.2678516</td>\n",
       "      <td>POLYGON ((-85.31549 32.80580, -85.31354 32.808...</td>\n",
       "    </tr>\n",
       "    <tr>\n",
       "      <th>2</th>\n",
       "      <td>01</td>\n",
       "      <td>017</td>\n",
       "      <td>953800</td>\n",
       "      <td>01017953800</td>\n",
       "      <td>9538</td>\n",
       "      <td>Census Tract 9538</td>\n",
       "      <td>G5020</td>\n",
       "      <td>S</td>\n",
       "      <td>515692207</td>\n",
       "      <td>11516898</td>\n",
       "      <td>+33.0302580</td>\n",
       "      <td>-085.3867880</td>\n",
       "      <td>POLYGON ((-85.59345 33.00012, -85.59333 33.000...</td>\n",
       "    </tr>\n",
       "    <tr>\n",
       "      <th>3</th>\n",
       "      <td>01</td>\n",
       "      <td>017</td>\n",
       "      <td>954300</td>\n",
       "      <td>01017954300</td>\n",
       "      <td>9543</td>\n",
       "      <td>Census Tract 9543</td>\n",
       "      <td>G5020</td>\n",
       "      <td>S</td>\n",
       "      <td>132642536</td>\n",
       "      <td>178276</td>\n",
       "      <td>+32.7766468</td>\n",
       "      <td>-085.2734917</td>\n",
       "      <td>POLYGON ((-85.38077 32.78301, -85.37985 32.782...</td>\n",
       "    </tr>\n",
       "    <tr>\n",
       "      <th>4</th>\n",
       "      <td>01</td>\n",
       "      <td>017</td>\n",
       "      <td>954700</td>\n",
       "      <td>01017954700</td>\n",
       "      <td>9547</td>\n",
       "      <td>Census Tract 9547</td>\n",
       "      <td>G5020</td>\n",
       "      <td>S</td>\n",
       "      <td>38036820</td>\n",
       "      <td>264376</td>\n",
       "      <td>+32.7702191</td>\n",
       "      <td>-085.1744682</td>\n",
       "      <td>POLYGON ((-85.22897 32.74543, -85.22894 32.745...</td>\n",
       "    </tr>\n",
       "  </tbody>\n",
       "</table>\n",
       "</div>"
      ],
      "text/plain": [
       "  STATEFP COUNTYFP TRACTCE        GEOID    NAME             NAMELSAD  MTFCC  \\\n",
       "0      01      045  020801  01045020801  208.01  Census Tract 208.01  G5020   \n",
       "1      01      017  954200  01017954200    9542    Census Tract 9542  G5020   \n",
       "2      01      017  953800  01017953800    9538    Census Tract 9538  G5020   \n",
       "3      01      017  954300  01017954300    9543    Census Tract 9543  G5020   \n",
       "4      01      017  954700  01017954700    9547    Census Tract 9547  G5020   \n",
       "\n",
       "  FUNCSTAT      ALAND    AWATER     INTPTLAT      INTPTLON  \\\n",
       "0        S   19261326         0  +31.3971437  -085.6615959   \n",
       "1        S   62998696     34641  +32.8341436  -085.2678516   \n",
       "2        S  515692207  11516898  +33.0302580  -085.3867880   \n",
       "3        S  132642536    178276  +32.7766468  -085.2734917   \n",
       "4        S   38036820    264376  +32.7702191  -085.1744682   \n",
       "\n",
       "                                            geometry  \n",
       "0  POLYGON ((-85.70064 31.38509, -85.70043 31.385...  \n",
       "1  POLYGON ((-85.31549 32.80580, -85.31354 32.808...  \n",
       "2  POLYGON ((-85.59345 33.00012, -85.59333 33.000...  \n",
       "3  POLYGON ((-85.38077 32.78301, -85.37985 32.782...  \n",
       "4  POLYGON ((-85.22897 32.74543, -85.22894 32.745...  "
      ]
     },
     "execution_count": 15,
     "metadata": {},
     "output_type": "execute_result"
    }
   ],
   "source": [
    "tracts_gdf.head()"
   ]
  },
  {
   "cell_type": "markdown",
   "id": "50c7495c-9f52-4fab-b9e5-1606c8fd0e31",
   "metadata": {},
   "source": [
    "Reader in the states maps file"
   ]
  },
  {
   "cell_type": "code",
   "execution_count": 48,
   "id": "cb0d4963-2430-4aa0-a628-43a625b18d03",
   "metadata": {},
   "outputs": [],
   "source": [
    "states_gdf = gpd.read_file(data_dir / \"processed/states_carto_2018.geojson\").to_crs(epsg=4326)"
   ]
  },
  {
   "cell_type": "code",
   "execution_count": 49,
   "id": "fae0c18e-a93e-4730-8c59-1ca64803f159",
   "metadata": {},
   "outputs": [
    {
     "data": {
      "text/html": [
       "<div>\n",
       "<style scoped>\n",
       "    .dataframe tbody tr th:only-of-type {\n",
       "        vertical-align: middle;\n",
       "    }\n",
       "\n",
       "    .dataframe tbody tr th {\n",
       "        vertical-align: top;\n",
       "    }\n",
       "\n",
       "    .dataframe thead th {\n",
       "        text-align: right;\n",
       "    }\n",
       "</style>\n",
       "<table border=\"1\" class=\"dataframe\">\n",
       "  <thead>\n",
       "    <tr style=\"text-align: right;\">\n",
       "      <th></th>\n",
       "      <th>state_fips</th>\n",
       "      <th>geoid</th>\n",
       "      <th>name</th>\n",
       "      <th>land_area</th>\n",
       "      <th>water_area</th>\n",
       "      <th>geometry</th>\n",
       "    </tr>\n",
       "  </thead>\n",
       "  <tbody>\n",
       "    <tr>\n",
       "      <th>0</th>\n",
       "      <td>28</td>\n",
       "      <td>28</td>\n",
       "      <td>Mississippi</td>\n",
       "      <td>121533519481</td>\n",
       "      <td>3926919758</td>\n",
       "      <td>MULTIPOLYGON (((-88.50297 30.21523, -88.49176 ...</td>\n",
       "    </tr>\n",
       "    <tr>\n",
       "      <th>1</th>\n",
       "      <td>37</td>\n",
       "      <td>37</td>\n",
       "      <td>North Carolina</td>\n",
       "      <td>125923656064</td>\n",
       "      <td>13466071395</td>\n",
       "      <td>MULTIPOLYGON (((-75.72681 35.93584, -75.71827 ...</td>\n",
       "    </tr>\n",
       "    <tr>\n",
       "      <th>2</th>\n",
       "      <td>40</td>\n",
       "      <td>40</td>\n",
       "      <td>Oklahoma</td>\n",
       "      <td>177662925723</td>\n",
       "      <td>3374587997</td>\n",
       "      <td>POLYGON ((-103.00257 36.52659, -103.00219 36.6...</td>\n",
       "    </tr>\n",
       "    <tr>\n",
       "      <th>3</th>\n",
       "      <td>51</td>\n",
       "      <td>51</td>\n",
       "      <td>Virginia</td>\n",
       "      <td>102257717110</td>\n",
       "      <td>8528531774</td>\n",
       "      <td>MULTIPOLYGON (((-75.74241 37.80835, -75.74151 ...</td>\n",
       "    </tr>\n",
       "    <tr>\n",
       "      <th>4</th>\n",
       "      <td>54</td>\n",
       "      <td>54</td>\n",
       "      <td>West Virginia</td>\n",
       "      <td>62266474513</td>\n",
       "      <td>489028543</td>\n",
       "      <td>POLYGON ((-82.64320 38.16909, -82.64300 38.169...</td>\n",
       "    </tr>\n",
       "  </tbody>\n",
       "</table>\n",
       "</div>"
      ],
      "text/plain": [
       "  state_fips geoid            name     land_area   water_area  \\\n",
       "0         28    28     Mississippi  121533519481   3926919758   \n",
       "1         37    37  North Carolina  125923656064  13466071395   \n",
       "2         40    40        Oklahoma  177662925723   3374587997   \n",
       "3         51    51        Virginia  102257717110   8528531774   \n",
       "4         54    54   West Virginia   62266474513    489028543   \n",
       "\n",
       "                                            geometry  \n",
       "0  MULTIPOLYGON (((-88.50297 30.21523, -88.49176 ...  \n",
       "1  MULTIPOLYGON (((-75.72681 35.93584, -75.71827 ...  \n",
       "2  POLYGON ((-103.00257 36.52659, -103.00219 36.6...  \n",
       "3  MULTIPOLYGON (((-75.74241 37.80835, -75.74151 ...  \n",
       "4  POLYGON ((-82.64320 38.16909, -82.64300 38.169...  "
      ]
     },
     "execution_count": 49,
     "metadata": {},
     "output_type": "execute_result"
    }
   ],
   "source": [
    "states_gdf.head()"
   ]
  },
  {
   "cell_type": "markdown",
   "id": "6e28b1e4-5ff6-4919-9ce2-73a68f58ff8d",
   "metadata": {},
   "source": [
    "Create a geodataframe with the randomly selected tract"
   ]
  },
  {
   "cell_type": "code",
   "execution_count": 30,
   "id": "0578c20d-60b6-4c70-a631-302de97048c2",
   "metadata": {},
   "outputs": [],
   "source": [
    "point_gdf = tracts_gdf[tracts_gdf.GEOID == random_tract].copy()"
   ]
  },
  {
   "cell_type": "markdown",
   "id": "ca883a55-cbf1-42c1-971d-2b7afc8d780a",
   "metadata": {},
   "source": [
    "Pull the centroid of the tract"
   ]
  },
  {
   "cell_type": "code",
   "execution_count": 42,
   "id": "70e0c1da-f316-4a64-a12b-3cf3e96b2a53",
   "metadata": {},
   "outputs": [],
   "source": [
    "point_gdf.geometry = point_gdf.to_crs(epsg=900913).geometry.centroid.to_crs(epsg=4326)"
   ]
  },
  {
   "cell_type": "code",
   "execution_count": 44,
   "id": "b2aab327-92e7-4f2a-86bd-8009b8f80a40",
   "metadata": {},
   "outputs": [
    {
     "data": {
      "text/html": [
       "<div>\n",
       "<style scoped>\n",
       "    .dataframe tbody tr th:only-of-type {\n",
       "        vertical-align: middle;\n",
       "    }\n",
       "\n",
       "    .dataframe tbody tr th {\n",
       "        vertical-align: top;\n",
       "    }\n",
       "\n",
       "    .dataframe thead th {\n",
       "        text-align: right;\n",
       "    }\n",
       "</style>\n",
       "<table border=\"1\" class=\"dataframe\">\n",
       "  <thead>\n",
       "    <tr style=\"text-align: right;\">\n",
       "      <th></th>\n",
       "      <th>STATEFP</th>\n",
       "      <th>COUNTYFP</th>\n",
       "      <th>TRACTCE</th>\n",
       "      <th>GEOID</th>\n",
       "      <th>NAME</th>\n",
       "      <th>NAMELSAD</th>\n",
       "      <th>MTFCC</th>\n",
       "      <th>FUNCSTAT</th>\n",
       "      <th>ALAND</th>\n",
       "      <th>AWATER</th>\n",
       "      <th>INTPTLAT</th>\n",
       "      <th>INTPTLON</th>\n",
       "      <th>geometry</th>\n",
       "    </tr>\n",
       "  </thead>\n",
       "  <tbody>\n",
       "    <tr>\n",
       "      <th>16203</th>\n",
       "      <td>12</td>\n",
       "      <td>095</td>\n",
       "      <td>016301</td>\n",
       "      <td>12095016301</td>\n",
       "      <td>163.01</td>\n",
       "      <td>Census Tract 163.01</td>\n",
       "      <td>G5020</td>\n",
       "      <td>S</td>\n",
       "      <td>3514974</td>\n",
       "      <td>0</td>\n",
       "      <td>+28.6026207</td>\n",
       "      <td>-081.3183381</td>\n",
       "      <td>POINT (-81.31834 28.60262)</td>\n",
       "    </tr>\n",
       "  </tbody>\n",
       "</table>\n",
       "</div>"
      ],
      "text/plain": [
       "      STATEFP COUNTYFP TRACTCE        GEOID    NAME             NAMELSAD  \\\n",
       "16203      12      095  016301  12095016301  163.01  Census Tract 163.01   \n",
       "\n",
       "       MTFCC FUNCSTAT    ALAND  AWATER     INTPTLAT      INTPTLON  \\\n",
       "16203  G5020        S  3514974       0  +28.6026207  -081.3183381   \n",
       "\n",
       "                         geometry  \n",
       "16203  POINT (-81.31834 28.60262)  "
      ]
     },
     "execution_count": 44,
     "metadata": {},
     "output_type": "execute_result"
    }
   ],
   "source": [
    "point_gdf.head()"
   ]
  },
  {
   "cell_type": "markdown",
   "id": "5b6b60b2-129b-46dc-b11a-ba6f511ea2df",
   "metadata": {},
   "source": [
    "Map the point over the states"
   ]
  },
  {
   "cell_type": "code",
   "execution_count": 70,
   "id": "540be5dd-6b2f-42fc-a914-b03a0064dcab",
   "metadata": {},
   "outputs": [],
   "source": [
    "clip_list = ['Commonwealth of the Northern Mariana Islands', 'Guam', 'American Samoa', 'United States Virgin Islands', 'Alaska', 'Puerto Rico', 'Hawaii']"
   ]
  },
  {
   "cell_type": "code",
   "execution_count": 79,
   "id": "e55cb943-7628-40c2-aaea-e157e44bdbf7",
   "metadata": {},
   "outputs": [
    {
     "data": {
      "text/plain": [
       "<AxesSubplot:>"
      ]
     },
     "execution_count": 79,
     "metadata": {},
     "output_type": "execute_result"
    },
    {
     "data": {
      "image/png": "[encoded data removed]",
      "text/plain": [
       "<Figure size 432x288 with 1 Axes>"
      ]
     },
     "metadata": {
      "needs_background": "light"
     },
     "output_type": "display_data"
    }
   ],
   "source": [
    "base = states_gdf[~states_gdf.name.isin(clip_list)].plot(color='white', edgecolor='black')\n",
    "point_gdf.plot(ax=base, marker='o', color='red', markersize=25)"
   ]
  }
 ],
 "metadata": {
  "kernelspec": {
   "display_name": "Python 3 (ipykernel)",
   "language": "python",
   "name": "python3"
  },
  "language_info": {
   "codemirror_mode": {
    "name": "ipython",
    "version": 3
   },
   "file_extension": ".py",
   "mimetype": "text/x-python",
   "name": "python",
   "nbconvert_exporter": "python",
   "pygments_lexer": "ipython3",
   "version": "3.8.8"
  }
 },
 "nbformat": 4,
 "nbformat_minor": 5
}
